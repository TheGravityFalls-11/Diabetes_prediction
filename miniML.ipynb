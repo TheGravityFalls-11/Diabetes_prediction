https://github.com/TheGravityFalls-11/Diabetes_preediction/delete/main/miniML.ipynb
